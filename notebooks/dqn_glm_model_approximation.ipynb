{
 "cells": [
  {
   "cell_type": "code",
   "execution_count": 4,
   "id": "04a7e6c0",
   "metadata": {},
   "outputs": [],
   "source": [
    "import numpy as np\n",
    "import matplotlib\n",
    "import matplotlib.pyplot as plt \n",
    "from mpl_toolkits.mplot3d import Axes3D\n",
    "import torch\n",
    "\n",
    "path = '../trained_models/ribbon_061723/conc_grad_big_network/'\n",
    "\n",
    "#flatten array\n",
    "\n",
    "num_pts = 5000\n",
    "\n",
    "n = 1000*num_pts\n",
    "sub_n = num_pts*100\n",
    "\n",
    "all_dat = np.zeros((n,7))\n",
    "\n",
    "for i in range(0,10):\n",
    "    \n",
    "    dat = np.load(path+str(i)+\"_data_arr.npy\")\n",
    "    sub_dat = np.zeros((sub_n, 7))\n",
    "    \n",
    "    for j in range(0,100):\n",
    "        \n",
    "        sub_dat[j*num_pts:(j+1)*num_pts] = dat[...,j]\n",
    "        \n",
    "    all_dat[i*sub_n:(i+1)*sub_n] = sub_dat\n"
   ]
  },
  {
   "cell_type": "code",
   "execution_count": 5,
   "id": "16367a80",
   "metadata": {},
   "outputs": [
    {
     "name": "stdout",
     "output_type": "stream",
     "text": [
      "(1012669, 7)\n",
      "(1012669, 4)\n"
     ]
    }
   ],
   "source": [
    "#let's first remove nans\n",
    "\n",
    "nan_inds = np.isnan(np.sum(all_dat, axis =1))\n",
    "not_nan_inds = np.logical_not(nan_inds)\n",
    "\n",
    "all_dat = all_dat[not_nan_inds, :]\n",
    "\n",
    "print(np.shape(all_dat))\n",
    "\n",
    "relevant_dat = all_dat[:,0:4]\n",
    "#theta = relevant_dat[:,3]\n",
    "cos_theta = relevant_dat[:,2]\n",
    "#sin_theta = np.sin(theta)\n",
    "#cos_theta = np.cos(theta)\n",
    "\n",
    "relevant_dat[:,3] = np.sin(relevant_dat[:,3])\n",
    "\n",
    "print(np.shape(relevant_dat))\n",
    "#print(np.shape(sin_theta))\n",
    "\n",
    "#print(sin_theta[0])\n",
    "\n",
    "#sin_theta = np.reshape(sin_theta, (sin_theta.shape[0], 1))\n",
    "\n",
    "#print(sin_theta[0])\n",
    "\n",
    "#relevant_dat[:,3] = cos_theta\n",
    "#relevant_dat = np.hstack((relevant_dat, sin_theta))\n",
    "\n",
    "labels = all_dat[:,4]"
   ]
  },
  {
   "cell_type": "code",
   "execution_count": 6,
   "id": "594e60f5",
   "metadata": {},
   "outputs": [
    {
     "data": {
      "image/png": "[encoded data removed]",
      "text/plain": [
       "<Figure size 640x480 with 1 Axes>"
      ]
     },
     "metadata": {},
     "output_type": "display_data"
    }
   ],
   "source": [
    "plt.hist(labels)\n",
    "plt.yscale('log')\n",
    "plt.show()"
   ]
  },
  {
   "cell_type": "code",
   "execution_count": 7,
   "id": "22412c13",
   "metadata": {},
   "outputs": [],
   "source": [
    "#normalize each column\n",
    "\n",
    "maxes = np.max(np.abs(relevant_dat), axis = 0)\n",
    "relevant_dat = relevant_dat/maxes[None,:]"
   ]
  },
  {
   "cell_type": "code",
   "execution_count": 8,
   "id": "b61a62a7",
   "metadata": {},
   "outputs": [
    {
     "name": "stderr",
     "output_type": "stream",
     "text": [
      "/Users/vrj9/anaconda3/envs/plume-env/lib/python3.10/site-packages/torchvision/io/image.py:13: UserWarning: Failed to load image Python extension: dlopen(/Users/vrj9/anaconda3/envs/plume-env/lib/python3.10/site-packages/torchvision/image.so, 0x0006): Symbol not found: __ZN2at4_ops19empty_memory_format4callEN3c108ArrayRefIxEENS2_8optionalINS2_10ScalarTypeEEENS5_INS2_6LayoutEEENS5_INS2_6DeviceEEENS5_IbEENS5_INS2_12MemoryFormatEEE\n",
      "  Referenced from: <DDABACEB-F2EA-368C-80DD-40745DFB96F8> /Users/vrj9/anaconda3/envs/plume-env/lib/python3.10/site-packages/torchvision/image.so\n",
      "  Expected in:     <06C5DED4-2345-38A0-A87B-C09CD199D899> /Users/vrj9/anaconda3/envs/plume-env/lib/python3.10/site-packages/torch/lib/libtorch_cpu.dylib\n",
      "  warn(f\"Failed to load image Python extension: {e}\")\n"
     ]
    },
    {
     "name": "stdout",
     "output_type": "stream",
     "text": [
      "(1012669, 4)\n",
      "torch.Size([5000, 4])\n"
     ]
    }
   ],
   "source": [
    "import torchvision\n",
    "from torch.utils.data import Dataset, DataLoader\n",
    "\n",
    "rand_gen = np.random.RandomState(0)\n",
    "\n",
    "total_inds = len(labels)\n",
    "\n",
    "inds = np.arange(total_inds)\n",
    "train_inds = rand_gen.choice(inds, replace = False, size = int(0.8*total_inds))\n",
    "test_inds = np.setdiff1d(inds, train_inds)\n",
    "\n",
    "\n",
    "batch_size = 5000\n",
    "\n",
    "#no_sthmot_sense_data = np.delete(sense_data, 47, axis=1)\n",
    "\n",
    "class train_PlumeDataset(Dataset):\n",
    "    \n",
    "    def __init__(self, data, labels, inds):\n",
    "        \n",
    "        self.x = torch.from_numpy(data[inds]).float()\n",
    "        self.y = torch.from_numpy(labels[inds]).long()\n",
    "        self.n_total = np.shape(data[inds])[0]\n",
    "        \n",
    "    def __getitem__(self,index):\n",
    "        \n",
    "        return self.x[index], self.y[index]\n",
    "    \n",
    "    def __len__(self):\n",
    "        \n",
    "        return self.n_total\n",
    "\n",
    "    \n",
    "print(np.shape(relevant_dat))\n",
    "\n",
    "train_dataset = train_PlumeDataset(data = relevant_dat, labels = labels, inds = train_inds)\n",
    "test_dataset = train_PlumeDataset(data = relevant_dat, labels = labels, inds = test_inds)\n",
    "\n",
    "\n",
    "#creating training batches\n",
    "train_loader = torch.utils.data.DataLoader(dataset = train_dataset, batch_size = batch_size, shuffle = True)\n",
    "test_loader = torch.utils.data.DataLoader(dataset = test_dataset, batch_size = batch_size, shuffle = False)\n",
    "\n",
    "check_iter = iter(train_loader)\n",
    "check = next(check_iter)\n",
    "\n",
    "features, labels = check\n",
    "\n",
    "print(features.size())"
   ]
  },
  {
   "cell_type": "code",
   "execution_count": 12,
   "id": "fe4c86ba",
   "metadata": {},
   "outputs": [],
   "source": [
    "import torch.nn as nn\n",
    "torch.manual_seed(98)\n",
    "\n",
    "#first doing GLM\n",
    "\n",
    "class NeuralNetGLM_Four(nn.Module):\n",
    "    \n",
    "    def __init__(self, input_size):\n",
    "        super(NeuralNetGLM_Four, self).__init__()\n",
    "        self.lin1 = nn.Linear(input_size, 1)\n",
    "        self.lin2 = nn.Linear(input_size, 1)\n",
    "        self.lin3 = nn.Linear(input_size, 1)\n",
    "        self.lin4 = nn.Linear(input_size, 1)\n",
    "        \n",
    "        self.nl = nn.Sigmoid()\n",
    "        \n",
    "    def forward(self, x):\n",
    "        \n",
    "        f1 = self.lin1(x)\n",
    "        f2 = self.lin2(x)\n",
    "        f3 = self.lin3(x)\n",
    "        f4 = self.lin4(x)\n",
    "        \n",
    "        #glm1 = self.nl(f1)\n",
    "        #glm2 = self.nl(f2)\n",
    "        #glm3 = self.nl(f3)\n",
    "        #glm4 = self.nl(f4)\n",
    "        \n",
    "        out = torch.cat((f1, f2, f3, f4), dim = 1)\n",
    "        \n",
    "        return out\n",
    "\n",
    "\n",
    "GLM = NeuralNetGLM_Four(input_size = 4)\n",
    "\n",
    "\n",
    "#print(x)\n",
    "#print(GLM.forward(x))\n",
    "#print(GLM(x))\n",
    "\n",
    "\n",
    "#for name, param in GLM.named_parameters():\n",
    "    \n",
    "#    print(name, param.data.size())\n",
    "\n",
    "\n",
    "#for name, param in GLM.named_parameters():\n",
    "    \n",
    "#    if param.requires_grad and name == 'lin1.weight':\n",
    "        \n",
    "#        filt_1 = param.data.numpy()\n",
    "#        print(filt_1)\n"
   ]
  },
  {
   "cell_type": "code",
   "execution_count": 13,
   "id": "e9d3de2d",
   "metadata": {},
   "outputs": [],
   "source": [
    "learning_rate = 0.001\n",
    "labels = all_dat[:,4]\n",
    "\n",
    "#get weights\n",
    "\n",
    "num_samples = np.shape(relevant_dat)[0]\n",
    "prop_0 = np.mean(labels==0)\n",
    "prop_1 = np.mean(labels==1)\n",
    "prop_2 = np.mean(labels==2)\n",
    "prop_3 = np.mean(labels==3)\n",
    "\n",
    "prop_arr = np.array([prop_0, prop_1, prop_2, prop_3])\n",
    "weights = 0.25/prop_arr\n",
    "weights = torch.from_numpy(weights).float()\n",
    "\n",
    "criterion = nn.CrossEntropyLoss(weight = weights)\n",
    "optimizer = torch.optim.Adam(GLM.parameters(), lr=learning_rate)"
   ]
  },
  {
   "cell_type": "code",
   "execution_count": 6,
   "id": "a8f4c718",
   "metadata": {},
   "outputs": [
    {
     "data": {
      "text/plain": [
       "'\\nprint(features)\\nprint(labels)\\n\\nall_out = GLM(features)\\n#all_out = all_out.data.numpy()\\n\\ndef softmax(x):\\n    \\n    x = x.data.numpy()\\n    \\n    exp_array = np.exp(x)\\n    \\n    exp_sum = np.sum(exp_array, axis = 1)\\n    \\n    div_array = np.zeros(np.shape(x))\\n    div_array[:,0] = exp_sum\\n    div_array[:,1] = exp_sum\\n    div_array[:,2] = exp_sum\\n    div_array[:,3] = exp_sum\\n    \\n    return exp_array/div_array\\n\\nall_out = softmax(all_out)\\n\\nall_0 = all_out[:,0]\\nall_1 = all_out[:,1]\\nall_2 = all_out[:,2]\\nall_3 = all_out[:,3]\\n\\nplt.hist(all_0, bins = 20)\\nplt.hist(all_1, bins = 20)\\nplt.hist(all_2, bins = 20)\\nplt.hist(all_3, bins = 20)\\n\\nplt.show()\\n\\ntest_loss = criterion(GLM(features), labels)\\nprint(test_loss.item())\\n'"
      ]
     },
     "execution_count": 6,
     "metadata": {},
     "output_type": "execute_result"
    }
   ],
   "source": [
    "\"\"\"\n",
    "print(features)\n",
    "print(labels)\n",
    "\n",
    "all_out = GLM(features)\n",
    "#all_out = all_out.data.numpy()\n",
    "\n",
    "def softmax(x):\n",
    "    \n",
    "    x = x.data.numpy()\n",
    "    \n",
    "    exp_array = np.exp(x)\n",
    "    \n",
    "    exp_sum = np.sum(exp_array, axis = 1)\n",
    "    \n",
    "    div_array = np.zeros(np.shape(x))\n",
    "    div_array[:,0] = exp_sum\n",
    "    div_array[:,1] = exp_sum\n",
    "    div_array[:,2] = exp_sum\n",
    "    div_array[:,3] = exp_sum\n",
    "    \n",
    "    return exp_array/div_array\n",
    "\n",
    "all_out = softmax(all_out)\n",
    "\n",
    "all_0 = all_out[:,0]\n",
    "all_1 = all_out[:,1]\n",
    "all_2 = all_out[:,2]\n",
    "all_3 = all_out[:,3]\n",
    "\n",
    "plt.hist(all_0, bins = 20)\n",
    "plt.hist(all_1, bins = 20)\n",
    "plt.hist(all_2, bins = 20)\n",
    "plt.hist(all_3, bins = 20)\n",
    "\n",
    "plt.show()\n",
    "\n",
    "test_loss = criterion(GLM(features), labels)\n",
    "print(test_loss.item())\n",
    "\"\"\""
   ]
  },
  {
   "cell_type": "code",
   "execution_count": 14,
   "id": "3b84b7ff",
   "metadata": {},
   "outputs": [
    {
     "name": "stdout",
     "output_type": "stream",
     "text": [
      "0\n",
      "1.459227442741394\n",
      "2\n",
      "1.2096909284591675\n"
     ]
    },
    {
     "ename": "KeyboardInterrupt",
     "evalue": "",
     "output_type": "error",
     "traceback": [
      "\u001b[0;31m---------------------------------------------------------------------------\u001b[0m",
      "\u001b[0;31mKeyboardInterrupt\u001b[0m                         Traceback (most recent call last)",
      "Cell \u001b[0;32mIn[14], line 11\u001b[0m\n\u001b[1;32m      4\u001b[0m \u001b[38;5;28;01mfor\u001b[39;00m epoch \u001b[38;5;129;01min\u001b[39;00m \u001b[38;5;28mrange\u001b[39m(num_epochs):\n\u001b[1;32m      6\u001b[0m     \u001b[38;5;28;01mfor\u001b[39;00m i, (features, labels) \u001b[38;5;129;01min\u001b[39;00m \u001b[38;5;28menumerate\u001b[39m(train_loader):\n\u001b[1;32m      7\u001b[0m         \n\u001b[1;32m      8\u001b[0m         \u001b[38;5;66;03m#print(features.size())\u001b[39;00m\n\u001b[1;32m      9\u001b[0m         \u001b[38;5;66;03m#print(labels.size())\u001b[39;00m\n\u001b[0;32m---> 11\u001b[0m         outputs \u001b[38;5;241m=\u001b[39m \u001b[43mGLM\u001b[49m\u001b[43m(\u001b[49m\u001b[43mfeatures\u001b[49m\u001b[43m)\u001b[49m\n\u001b[1;32m     13\u001b[0m         \u001b[38;5;66;03m#print(outputs.size())\u001b[39;00m\n\u001b[1;32m     14\u001b[0m         \n\u001b[1;32m     15\u001b[0m         \u001b[38;5;66;03m#assert(False)\u001b[39;00m\n\u001b[1;32m     17\u001b[0m         loss \u001b[38;5;241m=\u001b[39m criterion(outputs, labels)\n",
      "File \u001b[0;32m~/anaconda3/envs/plume-env/lib/python3.10/site-packages/torch/nn/modules/module.py:1501\u001b[0m, in \u001b[0;36mModule._call_impl\u001b[0;34m(self, *args, **kwargs)\u001b[0m\n\u001b[1;32m   1496\u001b[0m \u001b[38;5;66;03m# If we don't have any hooks, we want to skip the rest of the logic in\u001b[39;00m\n\u001b[1;32m   1497\u001b[0m \u001b[38;5;66;03m# this function, and just call forward.\u001b[39;00m\n\u001b[1;32m   1498\u001b[0m \u001b[38;5;28;01mif\u001b[39;00m \u001b[38;5;129;01mnot\u001b[39;00m (\u001b[38;5;28mself\u001b[39m\u001b[38;5;241m.\u001b[39m_backward_hooks \u001b[38;5;129;01mor\u001b[39;00m \u001b[38;5;28mself\u001b[39m\u001b[38;5;241m.\u001b[39m_backward_pre_hooks \u001b[38;5;129;01mor\u001b[39;00m \u001b[38;5;28mself\u001b[39m\u001b[38;5;241m.\u001b[39m_forward_hooks \u001b[38;5;129;01mor\u001b[39;00m \u001b[38;5;28mself\u001b[39m\u001b[38;5;241m.\u001b[39m_forward_pre_hooks\n\u001b[1;32m   1499\u001b[0m         \u001b[38;5;129;01mor\u001b[39;00m _global_backward_pre_hooks \u001b[38;5;129;01mor\u001b[39;00m _global_backward_hooks\n\u001b[1;32m   1500\u001b[0m         \u001b[38;5;129;01mor\u001b[39;00m _global_forward_hooks \u001b[38;5;129;01mor\u001b[39;00m _global_forward_pre_hooks):\n\u001b[0;32m-> 1501\u001b[0m     \u001b[38;5;28;01mreturn\u001b[39;00m \u001b[43mforward_call\u001b[49m\u001b[43m(\u001b[49m\u001b[38;5;241;43m*\u001b[39;49m\u001b[43margs\u001b[49m\u001b[43m,\u001b[49m\u001b[43m \u001b[49m\u001b[38;5;241;43m*\u001b[39;49m\u001b[38;5;241;43m*\u001b[39;49m\u001b[43mkwargs\u001b[49m\u001b[43m)\u001b[49m\n\u001b[1;32m   1502\u001b[0m \u001b[38;5;66;03m# Do not call functions when jit is used\u001b[39;00m\n\u001b[1;32m   1503\u001b[0m full_backward_hooks, non_full_backward_hooks \u001b[38;5;241m=\u001b[39m [], []\n",
      "Cell \u001b[0;32mIn[12], line 22\u001b[0m, in \u001b[0;36mNeuralNetGLM_Four.forward\u001b[0;34m(self, x)\u001b[0m\n\u001b[1;32m     20\u001b[0m f2 \u001b[38;5;241m=\u001b[39m \u001b[38;5;28mself\u001b[39m\u001b[38;5;241m.\u001b[39mlin2(x)\n\u001b[1;32m     21\u001b[0m f3 \u001b[38;5;241m=\u001b[39m \u001b[38;5;28mself\u001b[39m\u001b[38;5;241m.\u001b[39mlin3(x)\n\u001b[0;32m---> 22\u001b[0m f4 \u001b[38;5;241m=\u001b[39m \u001b[38;5;28;43mself\u001b[39;49m\u001b[38;5;241;43m.\u001b[39;49m\u001b[43mlin4\u001b[49m\u001b[43m(\u001b[49m\u001b[43mx\u001b[49m\u001b[43m)\u001b[49m\n\u001b[1;32m     24\u001b[0m \u001b[38;5;66;03m#glm1 = self.nl(f1)\u001b[39;00m\n\u001b[1;32m     25\u001b[0m \u001b[38;5;66;03m#glm2 = self.nl(f2)\u001b[39;00m\n\u001b[1;32m     26\u001b[0m \u001b[38;5;66;03m#glm3 = self.nl(f3)\u001b[39;00m\n\u001b[1;32m     27\u001b[0m \u001b[38;5;66;03m#glm4 = self.nl(f4)\u001b[39;00m\n\u001b[1;32m     29\u001b[0m out \u001b[38;5;241m=\u001b[39m torch\u001b[38;5;241m.\u001b[39mcat((f1, f2, f3, f4), dim \u001b[38;5;241m=\u001b[39m \u001b[38;5;241m1\u001b[39m)\n",
      "File \u001b[0;32m~/anaconda3/envs/plume-env/lib/python3.10/site-packages/torch/nn/modules/module.py:1501\u001b[0m, in \u001b[0;36mModule._call_impl\u001b[0;34m(self, *args, **kwargs)\u001b[0m\n\u001b[1;32m   1496\u001b[0m \u001b[38;5;66;03m# If we don't have any hooks, we want to skip the rest of the logic in\u001b[39;00m\n\u001b[1;32m   1497\u001b[0m \u001b[38;5;66;03m# this function, and just call forward.\u001b[39;00m\n\u001b[1;32m   1498\u001b[0m \u001b[38;5;28;01mif\u001b[39;00m \u001b[38;5;129;01mnot\u001b[39;00m (\u001b[38;5;28mself\u001b[39m\u001b[38;5;241m.\u001b[39m_backward_hooks \u001b[38;5;129;01mor\u001b[39;00m \u001b[38;5;28mself\u001b[39m\u001b[38;5;241m.\u001b[39m_backward_pre_hooks \u001b[38;5;129;01mor\u001b[39;00m \u001b[38;5;28mself\u001b[39m\u001b[38;5;241m.\u001b[39m_forward_hooks \u001b[38;5;129;01mor\u001b[39;00m \u001b[38;5;28mself\u001b[39m\u001b[38;5;241m.\u001b[39m_forward_pre_hooks\n\u001b[1;32m   1499\u001b[0m         \u001b[38;5;129;01mor\u001b[39;00m _global_backward_pre_hooks \u001b[38;5;129;01mor\u001b[39;00m _global_backward_hooks\n\u001b[1;32m   1500\u001b[0m         \u001b[38;5;129;01mor\u001b[39;00m _global_forward_hooks \u001b[38;5;129;01mor\u001b[39;00m _global_forward_pre_hooks):\n\u001b[0;32m-> 1501\u001b[0m     \u001b[38;5;28;01mreturn\u001b[39;00m \u001b[43mforward_call\u001b[49m\u001b[43m(\u001b[49m\u001b[38;5;241;43m*\u001b[39;49m\u001b[43margs\u001b[49m\u001b[43m,\u001b[49m\u001b[43m \u001b[49m\u001b[38;5;241;43m*\u001b[39;49m\u001b[38;5;241;43m*\u001b[39;49m\u001b[43mkwargs\u001b[49m\u001b[43m)\u001b[49m\n\u001b[1;32m   1502\u001b[0m \u001b[38;5;66;03m# Do not call functions when jit is used\u001b[39;00m\n\u001b[1;32m   1503\u001b[0m full_backward_hooks, non_full_backward_hooks \u001b[38;5;241m=\u001b[39m [], []\n",
      "File \u001b[0;32m~/anaconda3/envs/plume-env/lib/python3.10/site-packages/torch/nn/modules/linear.py:114\u001b[0m, in \u001b[0;36mLinear.forward\u001b[0;34m(self, input)\u001b[0m\n\u001b[1;32m    113\u001b[0m \u001b[38;5;28;01mdef\u001b[39;00m \u001b[38;5;21mforward\u001b[39m(\u001b[38;5;28mself\u001b[39m, \u001b[38;5;28minput\u001b[39m: Tensor) \u001b[38;5;241m-\u001b[39m\u001b[38;5;241m>\u001b[39m Tensor:\n\u001b[0;32m--> 114\u001b[0m     \u001b[38;5;28;01mreturn\u001b[39;00m \u001b[43mF\u001b[49m\u001b[38;5;241;43m.\u001b[39;49m\u001b[43mlinear\u001b[49m\u001b[43m(\u001b[49m\u001b[38;5;28;43minput\u001b[39;49m\u001b[43m,\u001b[49m\u001b[43m \u001b[49m\u001b[38;5;28;43mself\u001b[39;49m\u001b[38;5;241;43m.\u001b[39;49m\u001b[43mweight\u001b[49m\u001b[43m,\u001b[49m\u001b[43m \u001b[49m\u001b[38;5;28;43mself\u001b[39;49m\u001b[38;5;241;43m.\u001b[39;49m\u001b[43mbias\u001b[49m\u001b[43m)\u001b[49m\n",
      "\u001b[0;31mKeyboardInterrupt\u001b[0m: "
     ]
    }
   ],
   "source": [
    "num_epochs = 140\n",
    "loss_array = np.zeros(int(num_epochs/2))\n",
    "\n",
    "for epoch in range(num_epochs):\n",
    "    \n",
    "    for i, (features, labels) in enumerate(train_loader):\n",
    "        \n",
    "        #print(features.size())\n",
    "        #print(labels.size())\n",
    "        \n",
    "        outputs = GLM(features)\n",
    "        \n",
    "        #print(outputs.size())\n",
    "        \n",
    "        #assert(False)\n",
    "        \n",
    "        loss = criterion(outputs, labels)\n",
    "        \n",
    "        if i == 0 and epoch %2 ==0:\n",
    "        \n",
    "            print(epoch)\n",
    "            ind = int(epoch/2)\n",
    "            loss_array[ind] = loss.item()\n",
    "            print(loss.item())\n",
    "        \n",
    "        optimizer.zero_grad()\n",
    "        loss.backward()\n",
    "        optimizer.step()\n",
    "\n",
    "        \n",
    "epoch_labels = 2*np.arange(0,len(loss_array))      \n",
    "plt.plot(epoch_labels, loss_array)\n",
    "plt.show()\n"
   ]
  },
  {
   "cell_type": "code",
   "execution_count": 8,
   "id": "6dae6c29",
   "metadata": {},
   "outputs": [
    {
     "name": "stdout",
     "output_type": "stream",
     "text": [
      "tensor([[ 1.4387e+01, -3.3515e-01,  0.0000e+00,  ...,  1.0000e+00,\n",
      "          9.1205e-01,  4.1008e-01],\n",
      "        [ 1.2460e+01, -1.2101e-01,  0.0000e+00,  ...,  1.0000e+00,\n",
      "         -4.2923e-01, -9.0320e-01],\n",
      "        [ 6.9716e+00,  8.3645e-02,  0.0000e+00,  ...,  1.0000e+00,\n",
      "         -7.4369e-01,  6.6852e-01],\n",
      "        ...,\n",
      "        [ 3.8855e+00,  2.0867e-01, -2.2010e-02,  ...,  1.0000e+00,\n",
      "         -9.4671e-01, -3.2209e-01],\n",
      "        [ 1.6186e-01, -2.4698e-03,  1.0458e-04,  ...,  6.7593e-01,\n",
      "          2.1908e-01, -9.7571e-01],\n",
      "        [ 2.6743e+00, -2.2150e-01, -9.1298e-03,  ...,  1.0000e+00,\n",
      "          9.2034e-01,  3.9112e-01]])\n",
      "tensor([0, 0, 0,  ..., 0, 0, 0])\n",
      "[[0.33038503 0.26368702 0.21783121 0.18809683]\n",
      " [0.3410153  0.27619305 0.20736774 0.17542399]\n",
      " [0.32888177 0.28379865 0.21257789 0.17474167]\n",
      " ...\n",
      " [0.10980752 0.2514674  0.32879742 0.30992758]\n",
      " [0.17910295 0.30589955 0.29314554 0.22185196]\n",
      " [0.22117419 0.32884491 0.28212369 0.16785722]]\n"
     ]
    }
   ],
   "source": [
    "check_iter = iter(test_loader)\n",
    "check = next(check_iter)\n",
    "\n",
    "features, labels = check\n",
    "\n",
    "print(features)\n",
    "print(labels)\n",
    "\n",
    "def softmax(x):\n",
    "    \n",
    "    x = x.data.numpy()\n",
    "    \n",
    "    exp_array = np.exp(x)\n",
    "    \n",
    "    exp_sum = np.sum(exp_array, axis = 1)\n",
    "    \n",
    "    div_array = np.zeros(np.shape(x))\n",
    "    div_array[:,0] = exp_sum\n",
    "    div_array[:,1] = exp_sum\n",
    "    div_array[:,2] = exp_sum\n",
    "    div_array[:,3] = exp_sum\n",
    "    \n",
    "    return exp_array/div_array\n",
    "\n",
    "print(softmax(GLM(features)))"
   ]
  },
  {
   "cell_type": "code",
   "execution_count": 20,
   "id": "8aac9e15",
   "metadata": {},
   "outputs": [
    {
     "name": "stdout",
     "output_type": "stream",
     "text": [
      "tensor([[-0.1223, -0.3478, -0.5389, -0.6856]], grad_fn=<CatBackward0>)\n"
     ]
    }
   ],
   "source": [
    "test_feat, test_label = test_dataset[0]\n",
    "#print(test_feat.size())\n",
    "\n",
    "#test_feat.resize((1,9))\n",
    "\n",
    "test_feat = test_feat.unsqueeze(0)\n",
    "\n",
    "#check_iter = iter(test_loader)\n",
    "#check = next(check_iter)\n",
    "\n",
    "#features, labels = check\n",
    "\n",
    "#print(features.size())\n",
    "\n",
    "print(GLM(test_feat))"
   ]
  },
  {
   "cell_type": "code",
   "execution_count": 24,
   "id": "bddd261e",
   "metadata": {},
   "outputs": [
    {
     "name": "stdout",
     "output_type": "stream",
     "text": [
      "lin1.weight torch.Size([1, 5])\n",
      "lin1.bias torch.Size([1])\n",
      "lin2.weight torch.Size([1, 5])\n",
      "lin2.bias torch.Size([1])\n",
      "lin3.weight torch.Size([1, 5])\n",
      "lin3.bias torch.Size([1])\n",
      "lin4.weight torch.Size([1, 5])\n",
      "lin4.bias torch.Size([1])\n",
      "Parameter containing:\n",
      "tensor([[ 1.4959,  0.0819, -0.7583, -4.8299, -0.4440]], requires_grad=True)\n",
      "(1, 5)\n",
      "(1, 5)\n",
      "(1, 5)\n",
      "(1, 5)\n"
     ]
    },
    {
     "data": {
      "image/png": "[encoded data removed]",
      "text/plain": [
       "<Figure size 640x480 with 1 Axes>"
      ]
     },
     "metadata": {},
     "output_type": "display_data"
    }
   ],
   "source": [
    "label_list = ['inten', 'grad', 'hrc', 'cos_th', 'sin_th']\n",
    "\n",
    "fig = plt.figure()\n",
    "ax = fig.add_subplot(111)\n",
    "\n",
    "for name, param in GLM.named_parameters():\n",
    "    \n",
    "    print(name, param.data.size())\n",
    "\n",
    "\n",
    "for name, param in GLM.named_parameters():\n",
    "    \n",
    "    if param.requires_grad and name == 'lin1.weight':\n",
    "        \n",
    "        #print('in 1')\n",
    "        print(param)\n",
    "        \n",
    "        filt_1 = param.data.numpy()\n",
    "        print(np.shape(filt_1))\n",
    "        #print(filt_1.squeeze())\n",
    "        ax.plot(filt_1.squeeze(), label = 'filt for straight')\n",
    "\n",
    "    elif param.requires_grad and name == 'lin2.weight':\n",
    "        \n",
    "        #print('in 2')\n",
    "        filt_2 = param.data.numpy()\n",
    "        print(np.shape(filt_2))\n",
    "        ax.plot(filt_2.squeeze(), label = 'filt for left')\n",
    "\n",
    "        \n",
    "\n",
    "    elif param.requires_grad and name == 'lin3.weight':\n",
    "        \n",
    "        #print('in 2')\n",
    "        filt_3 = param.data.numpy()\n",
    "        print(np.shape(filt_3))\n",
    "        ax.plot(filt_3.squeeze(), label = 'filt for right')\n",
    "\n",
    "\n",
    "    elif param.requires_grad and name == 'lin4.weight':\n",
    "        \n",
    "        #print('in 2')\n",
    "        filt_4 = param.data.numpy()\n",
    "        print(np.shape(filt_3))\n",
    "        ax.plot(filt_4.squeeze(), label = 'filt for stop')\n",
    "        \n",
    "ax.set_xticks(np.arange(0,5))\n",
    "ax.set_xticklabels(label_list)\n",
    "plt.legend()\n",
    "plt.show()\n"
   ]
  },
  {
   "cell_type": "code",
   "execution_count": 25,
   "id": "91ba6341",
   "metadata": {},
   "outputs": [
    {
     "name": "stdout",
     "output_type": "stream",
     "text": [
      "14197\n",
      "11742\n"
     ]
    }
   ],
   "source": [
    "actions = all_dat[:,4]\n",
    "print(np.sum(actions==1))\n",
    "print(np.sum(actions==2))"
   ]
  },
  {
   "cell_type": "code",
   "execution_count": 26,
   "id": "57440159",
   "metadata": {},
   "outputs": [
    {
     "name": "stdout",
     "output_type": "stream",
     "text": [
      "0.9781599640846252\n",
      "1.0959116220474243\n",
      "0.9738056659698486\n",
      "0.9474474787712097\n",
      "1.022739291191101\n",
      "1.1055569648742676\n",
      "0.9793649911880493\n",
      "1.0265451669692993\n",
      "0.9820525050163269\n",
      "0.9634974598884583\n",
      "0.9374409317970276\n",
      "1.0359165668487549\n",
      "0.981025218963623\n",
      "0.9231297969818115\n",
      "0.9493781328201294\n",
      "0.9989124536514282\n",
      "1.0055627822875977\n",
      "1.0263996124267578\n",
      "0.9976528286933899\n",
      "1.0972586870193481\n",
      "1.072648286819458\n",
      "1.0890486240386963\n",
      "0.9939610362052917\n",
      "1.0158864259719849\n",
      "1.0711787939071655\n",
      "1.003405213356018\n",
      "0.9425743222236633\n",
      "1.012149691581726\n",
      "0.9713308215141296\n",
      "1.013708233833313\n",
      "1.0143966674804688\n",
      "1.0817866325378418\n",
      "0.9617254137992859\n",
      "0.9590542316436768\n",
      "1.0140866041183472\n",
      "1.0215831995010376\n",
      "0.9900487065315247\n",
      "0.9170401096343994\n",
      "1.0418102741241455\n",
      "1.0247125625610352\n",
      "1.0571811199188232\n",
      "1.0711791515350342\n",
      "1.1091359853744507\n",
      "0.9256458282470703\n",
      "0.997488260269165\n",
      "1.0158439874649048\n",
      "1.0458595752716064\n",
      "1.1038734912872314\n",
      "0.9699580073356628\n",
      "0.996429979801178\n",
      "1.0523220300674438\n",
      "1.040589451789856\n",
      "1.0781174898147583\n",
      "0.9406515955924988\n",
      "0.920147180557251\n",
      "1.0010895729064941\n",
      "1.0133813619613647\n",
      "1.0276196002960205\n",
      "0.9219192266464233\n",
      "0.9913971424102783\n",
      "1.0457426309585571\n",
      "1.0239132642745972\n",
      "0.9958900809288025\n",
      "0.979697048664093\n",
      "1.0340306758880615\n",
      "1.0075112581253052\n",
      "1.1003422737121582\n",
      "0.9502605199813843\n",
      "1.033555507659912\n",
      "1.0084213018417358\n"
     ]
    }
   ],
   "source": [
    "#Evaluate and create confusion matrix\n",
    "\n",
    "conf_matrix = np.zeros((4,4))\n",
    "\n",
    "with torch.no_grad():\n",
    "    \n",
    "    for features, labels in test_loader:\n",
    "        \n",
    "        outputs = GLM(features)\n",
    "        _, output_labels = torch.max(outputs.data, 1)\n",
    "        \n",
    "        for i in range(0,len(output_labels)):\n",
    "            \n",
    "            corr = labels[i]\n",
    "            pred = output_labels[i]\n",
    "            \n",
    "            conf_matrix[corr, pred] = conf_matrix[corr, pred]+1\n",
    "            \n",
    "        loss = criterion(outputs, labels)\n",
    "        print(loss.item())\n",
    "            \n",
    "conf_sum = np.sum(conf_matrix, axis = 1)\n"
   ]
  },
  {
   "cell_type": "code",
   "execution_count": 27,
   "id": "1c1f2b8c",
   "metadata": {},
   "outputs": [
    {
     "name": "stdout",
     "output_type": "stream",
     "text": [
      "(1, 4)\n",
      "[[189461. 189461. 189461. 189461.]\n",
      " [  2806.   2806.   2806.   2806.]\n",
      " [  2281.   2281.   2281.   2281.]\n",
      " [151864. 151864. 151864. 151864.]]\n",
      "(4, 4)\n",
      "[[0.55503771 0.01342229 0.01491072 0.41662928]\n",
      " [0.17355666 0.55773343 0.08196721 0.18674269]\n",
      " [0.1354669  0.04427883 0.63963174 0.18062253]\n",
      " [0.15883949 0.00383896 0.16294184 0.67437971]]\n"
     ]
    }
   ],
   "source": [
    "conf_sum = np.array([conf_sum])\n",
    "print(np.shape(conf_sum))\n",
    "\n",
    "conf_sum_array = np.tile(conf_sum.transpose(), (1,4))\n",
    "\n",
    "print(conf_sum_array)\n",
    "\n",
    "\n",
    "print(np.shape(conf_sum_array))\n",
    "\n",
    "print(conf_matrix/conf_sum_array)"
   ]
  },
  {
   "cell_type": "code",
   "execution_count": 29,
   "id": "ff84c34d",
   "metadata": {},
   "outputs": [
    {
     "data": {
      "image/png": "[encoded data removed]",
      "text/plain": [
       "<Figure size 640x480 with 1 Axes>"
      ]
     },
     "metadata": {},
     "output_type": "display_data"
    }
   ],
   "source": [
    "plt.hist(actions)\n",
    "plt.yscale('log')\n",
    "plt.show()"
   ]
  },
  {
   "cell_type": "code",
   "execution_count": null,
   "id": "8d9205f2",
   "metadata": {},
   "outputs": [],
   "source": []
  }
 ],
 "metadata": {
  "kernelspec": {
   "display_name": "Python 3 (ipykernel)",
   "language": "python",
   "name": "python3"
  },
  "language_info": {
   "codemirror_mode": {
    "name": "ipython",
    "version": 3
   },
   "file_extension": ".py",
   "mimetype": "text/x-python",
   "name": "python",
   "nbconvert_exporter": "python",
   "pygments_lexer": "ipython3",
   "version": "3.10.9"
  }
 },
 "nbformat": 4,
 "nbformat_minor": 5
}
